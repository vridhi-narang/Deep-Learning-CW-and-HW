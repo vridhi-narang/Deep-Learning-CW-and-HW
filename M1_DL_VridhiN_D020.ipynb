{
  "nbformat": 4,
  "nbformat_minor": 0,
  "metadata": {
    "colab": {
      "name": "M1_DL_VridhiN_D020.ipynb",
      "provenance": [],
      "include_colab_link": true
    },
    "kernelspec": {
      "name": "python3",
      "display_name": "Python 3"
    }
  },
  "cells": [
    {
      "cell_type": "markdown",
      "metadata": {
        "id": "view-in-github",
        "colab_type": "text"
      },
      "source": [
        "<a href=\"https://colab.research.google.com/github/vridhi-narang/Deep-Learning-CW-and-HW/blob/master/M1_DL_VridhiN_D020.ipynb\" target=\"_parent\"><img src=\"https://colab.research.google.com/assets/colab-badge.svg\" alt=\"Open In Colab\"/></a>"
      ]
    },
    {
      "cell_type": "markdown",
      "metadata": {
        "id": "y9tbKfURgEz0",
        "colab_type": "text"
      },
      "source": [
        "**QUESTION 1**"
      ]
    },
    {
      "cell_type": "markdown",
      "metadata": {
        "id": "bGCJOacybzLt",
        "colab_type": "text"
      },
      "source": [
        "IMPORTING LIBRARIES"
      ]
    },
    {
      "cell_type": "code",
      "metadata": {
        "id": "Fm2HdBQgjkY7",
        "colab_type": "code",
        "colab": {}
      },
      "source": [
        "from bs4 import BeautifulSoup\n",
        "import numpy as np\n",
        "import requests\n",
        "import cv2\n",
        "import PIL.Image\n",
        "import urllib\n",
        "import os\n",
        "import pandas as pd"
      ],
      "execution_count": null,
      "outputs": []
    },
    {
      "cell_type": "markdown",
      "metadata": {
        "id": "gq88lwkWc0HL",
        "colab_type": "text"
      },
      "source": [
        "NEWFOUNDLAND DOG SYNSET"
      ]
    },
    {
      "cell_type": "code",
      "metadata": {
        "id": "d8jFdyuBctqO",
        "colab_type": "code",
        "colab": {}
      },
      "source": [
        "nfldog_page = requests.get(\"http://www.image-net.org/api/text/imagenet.synset.geturls?wnid=n02111277\")\n",
        "\n",
        "nfldog_soup = BeautifulSoup(nfldog_page.content, 'html.parser')"
      ],
      "execution_count": null,
      "outputs": []
    },
    {
      "cell_type": "markdown",
      "metadata": {
        "id": "XBbG5ADXdYUb",
        "colab_type": "text"
      },
      "source": [
        "DALMATIAN DOG SYNSET"
      ]
    },
    {
      "cell_type": "code",
      "metadata": {
        "id": "wrI-fU3HkRPs",
        "colab_type": "code",
        "colab": {}
      },
      "source": [
        "dlmtndog_page = requests.get(\"http://www.image-net.org/api/text/imagenet.synset.geturls?wnid=n02110341\")\n",
        "\n",
        "dlmtndog_soup = BeautifulSoup(dlmtndog_page.content, 'html.parser')"
      ],
      "execution_count": null,
      "outputs": []
    },
    {
      "cell_type": "markdown",
      "metadata": {
        "id": "1uVpIrKEdpMT",
        "colab_type": "text"
      },
      "source": [
        "HUSKY DOG SYNSET"
      ]
    },
    {
      "cell_type": "code",
      "metadata": {
        "id": "wwPxo7jWdprw",
        "colab_type": "code",
        "colab": {}
      },
      "source": [
        "husky_page = requests.get(\"http://www.image-net.org/api/text/imagenet.synset.geturls?wnid=n02109961\")\n",
        "\n",
        "husky_soup = BeautifulSoup(husky_page.content, 'html.parser')"
      ],
      "execution_count": null,
      "outputs": []
    },
    {
      "cell_type": "markdown",
      "metadata": {
        "id": "vf9Ql56deLK8",
        "colab_type": "text"
      },
      "source": [
        "SPLITTING THE URLs"
      ]
    },
    {
      "cell_type": "markdown",
      "metadata": {
        "id": "jYU-7N1cei5D",
        "colab_type": "text"
      },
      "source": [
        "for newfoundland dog"
      ]
    },
    {
      "cell_type": "code",
      "metadata": {
        "id": "jvp44JU0kWzD",
        "colab_type": "code",
        "colab": {}
      },
      "source": [
        "nfldog_str_soup=str(nfldog_soup)\n",
        "type(nfldog_soup)\n",
        "split_nfldog_urls=nfldog_str_soup.split('\\r\\n')\n",
        "print(len(split_nfldog_urls))"
      ],
      "execution_count": null,
      "outputs": []
    },
    {
      "cell_type": "markdown",
      "metadata": {
        "id": "bWIqwXUeemFj",
        "colab_type": "text"
      },
      "source": [
        "for dalmatian dog"
      ]
    },
    {
      "cell_type": "code",
      "metadata": {
        "id": "NOtvhb1FeoF4",
        "colab_type": "code",
        "colab": {}
      },
      "source": [
        "dlmtndog_str_soup=str(dlmtndog_soup)\n",
        "type(dlmtndog_soup)\n",
        "split_dlmtndog_urls=dlmtndog_str_soup.split('\\r\\n')\n",
        "print(len(split_dlmtndog_urls))"
      ],
      "execution_count": null,
      "outputs": []
    },
    {
      "cell_type": "markdown",
      "metadata": {
        "id": "yGaxfOOQeotV",
        "colab_type": "text"
      },
      "source": [
        "for husky dog"
      ]
    },
    {
      "cell_type": "code",
      "metadata": {
        "id": "BDLQaeL8erYk",
        "colab_type": "code",
        "colab": {}
      },
      "source": [
        "husky_str_soup=str(husky_soup)\n",
        "type(husky_soup)\n",
        "split_husky_urls=husky_str_soup.split('\\r\\n')\n",
        "print(len(split_husky_urls))"
      ],
      "execution_count": null,
      "outputs": []
    },
    {
      "cell_type": "markdown",
      "metadata": {
        "id": "a-8ZThdTkaK7",
        "colab_type": "text"
      },
      "source": [
        "MAKE FOLDERS\n"
      ]
    },
    {
      "cell_type": "code",
      "metadata": {
        "id": "RvnNPUMdkciv",
        "colab_type": "code",
        "colab": {}
      },
      "source": [
        "!mkdir /content/train \n",
        "!mkdir /content/train/newfoundland_dog \n",
        "!mkdir /content/train/dalmatian_dog\n",
        "!mkdir /content/train/husky_dog \n",
        "!mkdir /content/validation\n",
        "!mkdir /content/validation/newfoundland_dog\n",
        "!mkdir /content/validation/dalmatian_dog\n",
        "!mkdir /content/validation/husky_dog\n",
        "!mkdir /content/test/ \n",
        "!mkdir /content/test/newfoundland_dog\n",
        "!mkdir /content/test/dalmatian_dog\n",
        "!mkdir /content/test/husky_dog"
      ],
      "execution_count": null,
      "outputs": []
    },
    {
      "cell_type": "code",
      "metadata": {
        "id": "ws5t46y-kg6X",
        "colab_type": "code",
        "colab": {}
      },
      "source": [
        "img_rows, img_cols = 150, 150\n",
        "input_shape = (img_rows, img_cols, 3)\n",
        "\n",
        "def url_to_image(url):\n",
        "\tresp = urllib.request.urlopen(url)\n",
        "\timage = np.asarray(bytearray(resp.read()), dtype=\"uint8\")\n",
        "\timage = cv2.imdecode(image, cv2.IMREAD_COLOR)\n",
        "\treturn image\n",
        "\n",
        "n_of_training_images=100\n",
        "\n",
        "for progress in range(n_of_training_images):\n",
        "    if(progress%20==0):\n",
        "        print(progress)\n",
        "    if not split_nfldog_urls[progress] == None:\n",
        "      try:\n",
        "        I = url_to_image(split_nfldog_urls[progress])\n",
        "        if (len(I.shape))==3: \n",
        "          save_path = '/content/train/newfoundland_dog/img'+str(progress)+'.jpg'\n",
        "          cv2.imwrite(save_path,I)\n",
        "      except:\n",
        "        None\n",
        "\n",
        "\n",
        "for progress in range(n_of_training_images):\n",
        "    if(progress%20==0):\n",
        "        print(progress)\n",
        "    if not split_dlmtndog_urls[progress] == None:\n",
        "      try:\n",
        "        I = url_to_image(split_dlmtndog_urls[progress])\n",
        "        if (len(I.shape))==3: \n",
        "          save_path = '/content/train/dalmatian_dog/img'+str(progress)+'.jpg'\n",
        "          cv2.imwrite(save_path,I)\n",
        "      except:\n",
        "        None\n",
        "        \n",
        "for progress in range(n_of_training_images):\n",
        "    if(progress%20==0):\n",
        "        print(progress)\n",
        "    if not split_husky_urls[progress] == None:\n",
        "      try:\n",
        "        I = url_to_image(split_husky_urls[progress])\n",
        "        if (len(I.shape))==3: \n",
        "          save_path = '/content/train/husky_dog/img'+str(progress)+'.jpg'\n",
        "          cv2.imwrite(save_path,I)\n",
        "      except:\n",
        "        None\n",
        "\n",
        "\n",
        "\n",
        "#Validation data:\n",
        "\n",
        "for progress in range(50):\n",
        "    if(progress%20==0):\n",
        "        print(progress)\n",
        "    if not split_nfldog_urls[progress] == None:\n",
        "      try:\n",
        "        I = url_to_image(split_nfldog_urls[n_of_training_images+progress])\n",
        "        if (len(I.shape))==3: \n",
        "          save_path = '/content/validation/newfoundland_dog/img'+str(progress)+'.jpg'\n",
        "          cv2.imwrite(save_path,I)\n",
        "      except:\n",
        "        None\n",
        "\n",
        "\n",
        "for progress in range(50):\n",
        "    if(progress%20==0):\n",
        "        print(progress)\n",
        "    if not split_dlmtndog_urls[progress] == None:\n",
        "      try:\n",
        "        I = url_to_image(split_dlmtndog_urls[n_of_training_images+progress])\n",
        "        if (len(I.shape))==3: \n",
        "          save_path = '/content/validation/dalmation_dog/img'+str(progress)+'.jpg'\n",
        "          cv2.imwrite(save_path,I)\n",
        "      except:\n",
        "        None\n",
        "\n",
        "\n",
        "for progress in range(50):\n",
        "    if(progress%20==0):\n",
        "        print(progress)\n",
        "    if not split_husky_urls[progress] == None:\n",
        "      try:\n",
        "        I = url_to_image(split_husky_urls[n_of_training_images+progress])\n",
        "        if (len(I.shape))==3: \n",
        "          save_path = '/content/validation/husky_dog/img'+str(progress)+'.jpg'\n",
        "          cv2.imwrite(save_path,I)\n",
        "      except:\n",
        "        None\n",
        "\n",
        "\n",
        "# Testing Data:\n",
        "\n",
        "for progress in range(50):\n",
        "    if(progress%20==0):\n",
        "        print(progress)\n",
        "    if not split_nfldog_urls[progress] == None:\n",
        "      try:\n",
        "        I = url_to_image(split_nfldog_urls[n_of_training_images+progress+50])\n",
        "        if (len(I.shape))==3: \n",
        "          save_path = '/content/test/newfoundland_dog/img'+str(progress)+'.jpg'\n",
        "          cv2.imwrite(save_path,I)\n",
        "      except:\n",
        "        None\n",
        "\n",
        "\n",
        "for progress in range(50):\n",
        "    if(progress%20==0):\n",
        "        print(progress)\n",
        "    if not split_dlmtndog_urls[progress] == None:\n",
        "      try:\n",
        "        I = url_to_image(split_dlmtndog_urls[n_of_training_images+progress+50])\n",
        "        if (len(I.shape))==3: \n",
        "          save_path = '/content/test/dalmation_dog/img'+str(progress)+'.jpg'\n",
        "          cv2.imwrite(save_path,I)\n",
        "      except:\n",
        "        None\n",
        "\n",
        "\n",
        "for progress in range(50):\n",
        "    if(progress%20==0):\n",
        "        print(progress)\n",
        "    if not split_husky_urls[progress] == None:\n",
        "      try:\n",
        "        I = url_to_image(split_husky_urls[n_of_training_images+progress+50])\n",
        "        if (len(I.shape))==3: \n",
        "          save_path = '/content/test/husky_dog/img'+str(progress)+'.jpg'\n",
        "          cv2.imwrite(save_path,I)\n",
        "      except:\n",
        "        None\n",
        "\n",
        "        \n",
        "print(\"\\nTRAIN:\\n\")               \n",
        "!ls /content/train/newfoundland_dog\n",
        "!ls /content/train/dalmatian_dog \n",
        "!ls /content/train/husky_dog \n",
        "\n",
        "print(\"\\nVALIDATION:\\n\")\n",
        "!ls /content/validation/newfoundland_dog \n",
        "!ls /content/validation/dalmatian_dog \n",
        "!ls /content/validation/husky_dog \n",
        "\n",
        "print(\"\\nTESTING:\\n\")\n",
        "!ls /content/test/newfoundland_dog \n",
        "!ls /content/test/dalmatian_dog \n",
        "!ls /content/test/husky_dog "
      ],
      "execution_count": null,
      "outputs": []
    },
    {
      "cell_type": "markdown",
      "metadata": {
        "id": "BRFufxs4lhkk",
        "colab_type": "text"
      },
      "source": [
        "**QUESTION 2 : BUILDING A CLASSIFICATION MODEL**"
      ]
    },
    {
      "cell_type": "code",
      "metadata": {
        "id": "Fo5siivVlg_6",
        "colab_type": "code",
        "colab": {}
      },
      "source": [
        "from tensorflow.keras.layers import Conv2D, Flatten, Dense, Input, MaxPooling2D, BatchNormalization\n",
        "from tensorflow.keras.models import Sequential"
      ],
      "execution_count": null,
      "outputs": []
    },
    {
      "cell_type": "code",
      "metadata": {
        "id": "R7k6ToZ-ma-9",
        "colab_type": "code",
        "colab": {}
      },
      "source": [
        "model = Sequential()\n",
        "model.add(Input((150, 150, 3)))\n",
        "\n",
        "model.add(Conv2D(64, (3,3), strides=1, padding='same', kernel_initializer='glorot_normal', activation='relu'))\n",
        "model.add(BatchNormalization(axis=3))\n",
        "model.add(Conv2D(64, (3,3), strides=1, padding='same', kernel_initializer='glorot_normal', activation='relu'))\n",
        "model.add(BatchNormalization(axis=3))\n",
        "model.add(MaxPooling2D((2,2), strides=2))\n",
        "\n",
        "model.add(Conv2D(128, (3,3), strides=1, padding='same', kernel_initializer='glorot_normal', activation='relu'))\n",
        "model.add(BatchNormalization(axis=3))\n",
        "model.add(Conv2D(128, (3,3), strides=1, padding='same', kernel_initializer='glorot_normal', activation='relu'))\n",
        "model.add(BatchNormalization(axis=3))\n",
        "model.add(MaxPooling2D((2,2), strides=2))\n",
        "\n",
        "model.add(Conv2D(256, (3,3), strides=1, padding='same', kernel_initializer='glorot_normal', activation='relu'))\n",
        "model.add(BatchNormalization(axis=3))\n",
        "model.add(Conv2D(256, (3,3), strides=1, padding='same', kernel_initializer='glorot_normal', activation='relu'))\n",
        "model.add(BatchNormalization(axis=3))\n",
        "model.add(Conv2D(256, (3,3), strides=1, padding='same', kernel_initializer='glorot_normal', activation='relu'))\n",
        "model.add(BatchNormalization(axis=3))\n",
        "model.add(MaxPooling2D((2,2), strides=2))\n",
        "\n",
        "model.add(Conv2D(512, (3,3), strides=1, padding='same', kernel_initializer='glorot_normal', activation='relu'))\n",
        "model.add(BatchNormalization(axis=3))\n",
        "model.add(Conv2D(512, (3,3), strides=1, padding='same', kernel_initializer='glorot_normal', activation='relu'))\n",
        "model.add(BatchNormalization(axis=3))\n",
        "model.add(Conv2D(512, (3,3), strides=1, padding='same', kernel_initializer='glorot_normal', activation='relu'))\n",
        "model.add(BatchNormalization(axis=3))\n",
        "model.add(MaxPooling2D((2,2), strides=2))\n",
        "\n",
        "model.add(Conv2D(512, (3,3), strides=1, padding='same', kernel_initializer='glorot_normal', activation='relu'))\n",
        "model.add(BatchNormalization(axis=3))\n",
        "model.add(Conv2D(512, (3,3), strides=1, padding='same', kernel_initializer='glorot_normal', activation='relu'))\n",
        "model.add(BatchNormalization(axis=3))\n",
        "model.add(Conv2D(512, (3,3), strides=1, padding='same', kernel_initializer='glorot_normal', activation='relu'))\n",
        "model.add(BatchNormalization(axis=3))\n",
        "model.add(MaxPooling2D((2,2), strides=2))\n",
        "\n",
        "model.add(Flatten())\n",
        "model.add(Dense(4096, kernel_initializer='glorot_normal', activation='relu'))\n",
        "model.add(Dense(1024, kernel_initializer='glorot_normal', activation='relu'))\n",
        "model.add(Dense(256, kernel_initializer='glorot_normal', activation='relu'))\n",
        "model.add(Dense(128, kernel_initializer='glorot_normal', activation='relu'))\n",
        "model.add(Dense(3, activation='softmax'))"
      ],
      "execution_count": null,
      "outputs": []
    },
    {
      "cell_type": "code",
      "metadata": {
        "id": "93lQeEKBm-ug",
        "colab_type": "code",
        "colab": {}
      },
      "source": [
        "model.summary()"
      ],
      "execution_count": null,
      "outputs": []
    },
    {
      "cell_type": "markdown",
      "metadata": {
        "id": "WdM-gCUwnSyq",
        "colab_type": "text"
      },
      "source": [
        "**QUESTION 3**"
      ]
    },
    {
      "cell_type": "markdown",
      "metadata": {
        "id": "rs7SV-z4nVZP",
        "colab_type": "text"
      },
      "source": [
        "Data Augmentation Techniques Used : Width Shift, Height Shift, Zoom Range, Horizontal Flipping, Rescaling"
      ]
    },
    {
      "cell_type": "code",
      "metadata": {
        "id": "Ecclp0YrnAKB",
        "colab_type": "code",
        "colab": {}
      },
      "source": [
        "from tensorflow.keras.preprocessing.image import ImageDataGenerator"
      ],
      "execution_count": null,
      "outputs": []
    },
    {
      "cell_type": "code",
      "metadata": {
        "id": "G7jSoTHmnvje",
        "colab_type": "code",
        "colab": {}
      },
      "source": [
        "train_augmentor = ImageDataGenerator(rescale=1/255.0, height_shift_range=0.2, width_shift_range=0.2, zoom_range=0.2, horizontal_flip=True)\n",
        "test_augmentor = ImageDataGenerator(rescale=1/255.0)"
      ],
      "execution_count": null,
      "outputs": []
    },
    {
      "cell_type": "code",
      "metadata": {
        "id": "-8yv9_9qn92t",
        "colab_type": "code",
        "colab": {}
      },
      "source": [
        "train_batches = train_augmentor.flow_from_directory(directory='/content/train/', target_size=(150, 150), color_mode='rgb', class_mode='categorical', batch_size=16, shuffle=True)\n",
        "val_batches = train_augmentor.flow_from_directory(directory='/content/validation/', target_size=(150, 150), color_mode='rgb', class_mode='categorical', batch_size=16, shuffle=False)\n",
        "test_batches = test_augmentor.flow_from_directory(directory='/content/test/', target_size=(150, 150), color_mode='rgb', class_mode='categorical', batch_size=16, shuffle=False)"
      ],
      "execution_count": null,
      "outputs": []
    },
    {
      "cell_type": "markdown",
      "metadata": {
        "id": "BcG_KR_GpbdC",
        "colab_type": "text"
      },
      "source": [
        "HYPERPARAMETERS OF DATA AUGMENTATION : Height shift by 20%, Width Shift by 20%, horizontal Flip, Zoom 20%, rescale by 255.0, target size of (150, 150), color_mode as RGB, class mode as Categorical, batch size of 16"
      ]
    },
    {
      "cell_type": "markdown",
      "metadata": {
        "id": "SoL1rSHDp3c_",
        "colab_type": "text"
      },
      "source": [
        "HYPER PARAMETERS OF MODEL : 16 Conv2D layers."
      ]
    },
    {
      "cell_type": "markdown",
      "metadata": {
        "id": "2g-lkmIiqRs3",
        "colab_type": "text"
      },
      "source": [
        "CALLBACKS"
      ]
    },
    {
      "cell_type": "code",
      "metadata": {
        "id": "_a5iVWM9o1hj",
        "colab_type": "code",
        "colab": {}
      },
      "source": [
        "from tensorflow.keras.callbacks import EarlyStopping"
      ],
      "execution_count": null,
      "outputs": []
    },
    {
      "cell_type": "code",
      "metadata": {
        "id": "6NS_j_OpqZW2",
        "colab_type": "code",
        "colab": {}
      },
      "source": [
        "es = EarlyStopping(monitor='val_accuracy', patience=10, verbose=2, mode='auto')"
      ],
      "execution_count": null,
      "outputs": []
    },
    {
      "cell_type": "markdown",
      "metadata": {
        "id": "gU6ynSAkqqbo",
        "colab_type": "text"
      },
      "source": [
        "INTIALIZER : GLOROT_NORMAL, OPTIMIZER: ADAM, LOSS: CATEGORICAL CROSSENTROPY, METRICS: ACCURACY"
      ]
    },
    {
      "cell_type": "code",
      "metadata": {
        "id": "TZuLUfItqpbQ",
        "colab_type": "code",
        "colab": {}
      },
      "source": [
        "model.compile(loss='categorical_crossentropy', metrics=['accuracy'], optimizer='adam')"
      ],
      "execution_count": null,
      "outputs": []
    },
    {
      "cell_type": "code",
      "metadata": {
        "id": "LdStYl8Eq2z2",
        "colab_type": "code",
        "colab": {}
      },
      "source": [
        "history = model.fit_generator(train_batches, validation_data=val_batches, steps_per_epoch=len(train_batches), epochs=50, callbacks=[es], verbose=2)"
      ],
      "execution_count": null,
      "outputs": []
    },
    {
      "cell_type": "code",
      "metadata": {
        "id": "Z3luWM-HulRs",
        "colab_type": "code",
        "colab": {}
      },
      "source": [
        ""
      ],
      "execution_count": null,
      "outputs": []
    }
  ]
}